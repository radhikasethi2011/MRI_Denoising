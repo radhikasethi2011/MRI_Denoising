{
 "cells": [
  {
   "cell_type": "code",
   "execution_count": 2,
   "metadata": {},
   "outputs": [
    {
     "name": "stdout",
     "output_type": "stream",
     "text": [
      "CUDA_HOME: C:\\Program Files\\NVIDIA GPU Computing Toolkit\\CUDA\\v10.2\n",
      "CUDA_PATH: C:\\Program Files\\NVIDIA GPU Computing Toolkit\\CUDA\\v10.2\n",
      "PATH: C:\\Program Files\\NVIDIA GPU Computing Toolkit\\CUDA\\v10.2\\bin;C:\\Program Files\\NVIDIA GPU Computing Toolkit\\CUDA\\v10.2\\libnvvp;c:\\Users\\ebjor\\anaconda\\envs\\ddm3;C:\\Users\\ebjor\\anaconda\\envs\\ddm3;C:\\Users\\ebjor\\anaconda\\envs\\ddm3\\Library\\mingw-w64\\bin;C:\\Users\\ebjor\\anaconda\\envs\\ddm3\\Library\\usr\\bin;C:\\Users\\ebjor\\anaconda\\envs\\ddm3\\Library\\bin;C:\\Users\\ebjor\\anaconda\\envs\\ddm3\\Scripts;C:\\Users\\ebjor\\anaconda\\envs\\ddm3\\bin;C:\\Users\\ebjor\\anaconda\\condabin;C:\\Users\\ebjor\\anaconda;C:\\Users\\ebjor\\anaconda\\Library\\mingw-w64\\bin;C:\\Users\\ebjor\\anaconda\\Library\\usr\\bin;C:\\Users\\ebjor\\anaconda\\Library\\bin;C:\\Users\\ebjor\\anaconda\\Scripts;C:\\Program Files\\NVIDIA\\CUDNN\\v9.1\\bin;C:\\Program Files\\NVIDIA GPU Computing Toolkit\\CUDA\\v12.5\\bin;C:\\Program Files\\NVIDIA GPU Computing Toolkit\\CUDA\\v12.5\\libnvvp;C:\\Program Files\\Oculus\\Support\\oculus-runtime;C:\\Windows\\system32;C:\\Windows;C:\\Windows\\System32\\Wbem;C:\\Windows\\System32\\WindowsPowerShell\\v1.0;C:\\Windows\\System32\\OpenSSH;C:\\Program Files (x86)\\NVIDIA Corporation\\PhysX\\Common;C:\\Program Files\\NVIDIA Corporation\\NVIDIA NvDLISR;C:\\Program Files\\dotnet;C:\\WINDOWS\\system32;C:\\WINDOWS;C:\\WINDOWS\\System32\\Wbem;C:\\WINDOWS\\System32\\WindowsPowerShell\\v1.0;C:\\WINDOWS\\System32\\OpenSSH;C:\\Program Files\\Git\\cmd;C:\\Program Files\\NVIDIA Corporation\\Nsight Compute 2024.2.0;C:\\Users\\ebjor\\anaconda;C:\\Users\\ebjor\\anaconda\\Library\\mingw-w64\\bin;C:\\Users\\ebjor\\anaconda\\Library\\usr\\bin;C:\\Users\\ebjor\\anaconda\\Library\\bin;C:\\Users\\ebjor\\anaconda\\Scripts;C:\\Users\\ebjor\\AppData\\Local\\Microsoft\\WindowsApps;C:\\Users\\ebjor\\AppData\\Local\\Programs\\Microsoft VS Code\\bin\n",
      "nvcc: NVIDIA (R) Cuda compiler driver\n",
      "Copyright (c) 2005-2019 NVIDIA Corporation\n",
      "Built on Wed_Oct_23_19:32:27_Pacific_Daylight_Time_2019\n",
      "Cuda compilation tools, release 10.2, V10.2.89\n",
      "CUDA available: True\n",
      "Current device: 0\n",
      "Device name: NVIDIA GeForce RTX 2070 with Max-Q Design\n"
     ]
    }
   ],
   "source": [
    "import os\n",
    "\n",
    "# Set environment variables\n",
    "os.environ['CUDA_HOME'] = r'C:\\Program Files\\NVIDIA GPU Computing Toolkit\\CUDA\\v10.2'\n",
    "os.environ['CUDA_PATH'] = r'C:\\Program Files\\NVIDIA GPU Computing Toolkit\\CUDA\\v10.2'\n",
    "os.environ['PATH'] = os.environ['CUDA_HOME'] + r'\\bin;' + os.environ['CUDA_HOME'] + r'\\libnvvp;' + os.environ['PATH']\n",
    "\n",
    "# Verify the environment variables\n",
    "print('CUDA_HOME:', os.environ['CUDA_HOME'])\n",
    "print('CUDA_PATH:', os.environ['CUDA_PATH'])\n",
    "print('PATH:', os.environ['PATH'])\n",
    "\n",
    "# Verify CUDA version\n",
    "!nvcc --version\n",
    "\n",
    "# Verify PyTorch with CUDA\n",
    "import torch\n",
    "\n",
    "#print(\"PyTorch version:\", torch.version.__version__)\n",
    "print(\"CUDA available:\", torch.cuda.is_available())\n",
    "if torch.cuda.is_available():\n",
    "    print(\"Current device:\", torch.cuda.current_device())\n",
    "    print(\"Device name:\", torch.cuda.get_device_name(0))\n",
    "else:\n",
    "    print(\"CUDA is not available.\")\n"
   ]
  },
  {
   "cell_type": "code",
   "execution_count": 3,
   "metadata": {},
   "outputs": [],
   "source": [
    "import torch"
   ]
  },
  {
   "cell_type": "code",
   "execution_count": 4,
   "metadata": {},
   "outputs": [
    {
     "name": "stdout",
     "output_type": "stream",
     "text": [
      "PyTorch version: 1.8.0\n",
      "CUDA available: True\n",
      "Current device: 0\n",
      "Device name: NVIDIA GeForce RTX 2070 with Max-Q Design\n"
     ]
    }
   ],
   "source": [
    "import torch\n",
    "\n",
    "print(\"PyTorch version:\", torch.__version__)\n",
    "print(\"CUDA available:\", torch.cuda.is_available())\n",
    "if torch.cuda.is_available():\n",
    "    print(\"Current device:\", torch.cuda.current_device())\n",
    "    print(\"Device name:\", torch.cuda.get_device_name(0))\n",
    "else:\n",
    "    print(\"CUDA is not available.\")\n"
   ]
  },
  {
   "cell_type": "code",
   "execution_count": 5,
   "metadata": {},
   "outputs": [
    {
     "name": "stdout",
     "output_type": "stream",
     "text": [
      "CUDA_HOME: C:\\Program Files\\NVIDIA GPU Computing Toolkit\\CUDA\\v10.2\n",
      "CUDA_PATH: C:\\Program Files\\NVIDIA GPU Computing Toolkit\\CUDA\\v10.2\n",
      "PATH: C:\\Program Files\\NVIDIA GPU Computing Toolkit\\CUDA\\v10.2\\bin;C:\\Program Files\\NVIDIA GPU Computing Toolkit\\CUDA\\v10.2\\libnvvp;C:\\Program Files\\NVIDIA GPU Computing Toolkit\\CUDA\\v10.2\\bin;C:\\Program Files\\NVIDIA GPU Computing Toolkit\\CUDA\\v10.2\\libnvvp;c:\\Users\\ebjor\\anaconda\\envs\\ddm3;C:\\Users\\ebjor\\anaconda\\envs\\ddm3;C:\\Users\\ebjor\\anaconda\\envs\\ddm3\\Library\\mingw-w64\\bin;C:\\Users\\ebjor\\anaconda\\envs\\ddm3\\Library\\usr\\bin;C:\\Users\\ebjor\\anaconda\\envs\\ddm3\\Library\\bin;C:\\Users\\ebjor\\anaconda\\envs\\ddm3\\Scripts;C:\\Users\\ebjor\\anaconda\\envs\\ddm3\\bin;C:\\Users\\ebjor\\anaconda\\condabin;C:\\Users\\ebjor\\anaconda;C:\\Users\\ebjor\\anaconda\\Library\\mingw-w64\\bin;C:\\Users\\ebjor\\anaconda\\Library\\usr\\bin;C:\\Users\\ebjor\\anaconda\\Library\\bin;C:\\Users\\ebjor\\anaconda\\Scripts;C:\\Program Files\\NVIDIA\\CUDNN\\v9.1\\bin;C:\\Program Files\\NVIDIA GPU Computing Toolkit\\CUDA\\v12.5\\bin;C:\\Program Files\\NVIDIA GPU Computing Toolkit\\CUDA\\v12.5\\libnvvp;C:\\Program Files\\Oculus\\Support\\oculus-runtime;C:\\Windows\\system32;C:\\Windows;C:\\Windows\\System32\\Wbem;C:\\Windows\\System32\\WindowsPowerShell\\v1.0;C:\\Windows\\System32\\OpenSSH;C:\\Program Files (x86)\\NVIDIA Corporation\\PhysX\\Common;C:\\Program Files\\NVIDIA Corporation\\NVIDIA NvDLISR;C:\\Program Files\\dotnet;C:\\WINDOWS\\system32;C:\\WINDOWS;C:\\WINDOWS\\System32\\Wbem;C:\\WINDOWS\\System32\\WindowsPowerShell\\v1.0;C:\\WINDOWS\\System32\\OpenSSH;C:\\Program Files\\Git\\cmd;C:\\Program Files\\NVIDIA Corporation\\Nsight Compute 2024.2.0;C:\\Users\\ebjor\\anaconda;C:\\Users\\ebjor\\anaconda\\Library\\mingw-w64\\bin;C:\\Users\\ebjor\\anaconda\\Library\\usr\\bin;C:\\Users\\ebjor\\anaconda\\Library\\bin;C:\\Users\\ebjor\\anaconda\\Scripts;C:\\Users\\ebjor\\AppData\\Local\\Microsoft\\WindowsApps;C:\\Users\\ebjor\\AppData\\Local\\Programs\\Microsoft VS Code\\bin\n",
      "nvcc: NVIDIA (R) Cuda compiler driverPyTorch version: 1.8.0\n",
      "CUDA available: True\n",
      "Current device: 0\n",
      "Device name: NVIDIA GeForce RTX 2070 with Max-Q Design\n",
      "\n",
      "Copyright (c) 2005-2019 NVIDIA Corporation\n",
      "Built on Wed_Oct_23_19:32:27_Pacific_Daylight_Time_2019\n",
      "Cuda compilation tools, release 10.2, V10.2.89\n"
     ]
    }
   ],
   "source": [
    "import os\n",
    "\n",
    "# Ensure the correct environment variables are set\n",
    "os.environ['CUDA_HOME'] = r'C:\\Program Files\\NVIDIA GPU Computing Toolkit\\CUDA\\v10.2'\n",
    "os.environ['CUDA_PATH'] = r'C:\\Program Files\\NVIDIA GPU Computing Toolkit\\CUDA\\v10.2'\n",
    "os.environ['PATH'] = os.environ['CUDA_HOME'] + r'\\bin;' + os.environ['CUDA_HOME'] + r'\\libnvvp;' + os.environ['PATH']\n",
    "\n",
    "# Verify the environment variables\n",
    "print('CUDA_HOME:', os.environ['CUDA_HOME'])\n",
    "print('CUDA_PATH:', os.environ['CUDA_PATH'])\n",
    "print('PATH:', os.environ['PATH'])\n",
    "\n",
    "# Verify CUDA version\n",
    "!nvcc --version\n",
    "\n",
    "# Verify PyTorch with CUDA\n",
    "import torch\n",
    "\n",
    "print(\"PyTorch version:\", torch.__version__)\n",
    "print(\"CUDA available:\", torch.cuda.is_available())\n",
    "if torch.cuda.is_available():\n",
    "    print(\"Current device:\", torch.cuda.current_device())\n",
    "    print(\"Device name:\", torch.cuda.get_device_name(0))\n",
    "else:\n",
    "    print(\"CUDA is not available.\")\n"
   ]
  },
  {
   "cell_type": "code",
   "execution_count": 1,
   "metadata": {},
   "outputs": [
    {
     "name": "stdout",
     "output_type": "stream",
     "text": [
      "Data shape: (81, 106, 76, 160)\n",
      "Affine matrix: [[   2.    0.    0.  -80.]\n",
      " [   0.    2.    0. -120.]\n",
      " [   0.    0.    2.  -60.]\n",
      " [   0.    0.    0.    1.]]\n"
     ]
    }
   ],
   "source": [
    "from dipy.data import fetch_stanford_hardi, read_stanford_hardi\n",
    "\n",
    "# Fetch the Stanford HARDI dataset\n",
    "fetch_stanford_hardi()\n",
    "\n",
    "# Load the data and gradient table\n",
    "img, gtab = read_stanford_hardi()\n",
    "\n",
    "# Extract data and affine from the Nifti image\n",
    "data = img.get_fdata()\n",
    "affine = img.affine\n",
    "\n",
    "print(\"Data shape:\", data.shape)\n",
    "print(\"Affine matrix:\", affine)\n"
   ]
  },
  {
   "cell_type": "code",
   "execution_count": 3,
   "metadata": {},
   "outputs": [
    {
     "name": "stdout",
     "output_type": "stream",
     "text": [
      "DIPY_HOME directory: C:\\Users\\ebjor/.dipy\n"
     ]
    }
   ],
   "source": [
    "import os\n",
    "dipy_home = os.getenv('DIPY_HOME')\n",
    "if not dipy_home:\n",
    "    dipy_home = os.path.expanduser('~/.dipy')\n",
    "print(\"DIPY_HOME directory:\", dipy_home)"
   ]
  },
  {
   "cell_type": "code",
   "execution_count": 4,
   "metadata": {},
   "outputs": [
    {
     "name": "stdout",
     "output_type": "stream",
     "text": [
      "Files in Stanford HARDI dataset directory:\n",
      "C:\\Users\\ebjor/.dipy\\stanford_hardi\\HARDI150.bval\n",
      "C:\\Users\\ebjor/.dipy\\stanford_hardi\\HARDI150.bvec\n",
      "C:\\Users\\ebjor/.dipy\\stanford_hardi\\HARDI150.nii.gz\n"
     ]
    }
   ],
   "source": [
    "import os\n",
    "\n",
    "dipy_home = os.getenv('DIPY_HOME')\n",
    "if not dipy_home:\n",
    "    dipy_home = os.path.expanduser('~/.dipy')\n",
    "\n",
    "# List the files in the Stanford HARDI dataset directory\n",
    "hardi_dir = os.path.join(dipy_home, 'stanford_hardi')\n",
    "print(\"Files in Stanford HARDI dataset directory:\")\n",
    "for root, dirs, files in os.walk(hardi_dir):\n",
    "    for file in files:\n",
    "        print(os.path.join(root, file))\n"
   ]
  },
  {
   "cell_type": "code",
   "execution_count": 3,
   "metadata": {},
   "outputs": [
    {
     "name": "stdout",
     "output_type": "stream",
     "text": [
      "^C\n"
     ]
    }
   ],
   "source": [
    "!python train_noise_model.py -p train -c config/hardi_150.json\n"
   ]
  },
  {
   "cell_type": "code",
   "execution_count": null,
   "metadata": {},
   "outputs": [],
   "source": []
  }
 ],
 "metadata": {
  "kernelspec": {
   "display_name": "ddm2",
   "language": "python",
   "name": "python3"
  },
  "language_info": {
   "codemirror_mode": {
    "name": "ipython",
    "version": 3
   },
   "file_extension": ".py",
   "mimetype": "text/x-python",
   "name": "python",
   "nbconvert_exporter": "python",
   "pygments_lexer": "ipython3",
   "version": "3.8.19"
  }
 },
 "nbformat": 4,
 "nbformat_minor": 2
}
