{
 "cells": [
  {
   "cell_type": "code",
   "execution_count": 1,
   "metadata": {},
   "outputs": [
    {
     "name": "stdout",
     "output_type": "stream",
     "text": [
      "usage: conda-script.py [-h] [-v] [--no-plugins] [-V] COMMAND ...\n",
      "\n",
      "conda is a tool for managing and deploying applications, environments and packages.\n",
      "\n",
      "options:\n",
      "  -h, --help          Show this help message and exit.\n",
      "  -v, --verbose       Can be used multiple times. Once for detailed output,\n",
      "                      twice for INFO logging, thrice for DEBUG logging, four\n",
      "                      times for TRACE logging.\n",
      "  --no-plugins        Disable all plugins that are not built into conda.\n",
      "  -V, --version       Show the conda version number and exit.\n",
      "\n",
      "commands:\n",
      "  The following built-in and plugins subcommands are available.\n",
      "\n",
      "  COMMAND\n",
      "    activate          Activate a conda environment.\n",
      "    build             Build conda packages from a conda recipe.\n",
      "    clean             Remove unused packages and caches.\n",
      "    compare           Compare packages between conda environments.\n",
      "    config            Modify configuration values in .condarc.\n",
      "    content-trust     Signing and verification tools for Conda\n",
      "    convert           Convert pure Python packages to other platforms (a.k.a.,\n",
      "                      subdirs).\n",
      "    create            Create a new conda environment from a list of specified\n",
      "                      packages.\n",
      "    deactivate        Deactivate the current active conda environment.\n",
      "    debug             Debug the build or test phases of conda recipes.\n",
      "    develop           Install a Python package in 'development mode'. Similar\n",
      "                      to `pip install --editable`.\n",
      "    doctor            Display a health report for your environment.\n",
      "    index             Update package index metadata files.\n",
      "    info              Display information about current conda install.\n",
      "    init              Initialize conda for shell interaction.\n",
      "    inspect           Tools for inspecting conda packages.\n",
      "    install           Install a list of packages into a specified conda\n",
      "                      environment.\n",
      "    list              List installed packages in a conda environment.\n",
      "    metapackage       Specialty tool for generating conda metapackage.\n",
      "    notices           Retrieve latest channel notifications.\n",
      "    pack              See `conda pack --help`.\n",
      "    package           Create low-level conda packages. (EXPERIMENTAL)\n",
      "    remove (uninstall)\n",
      "                      Remove a list of packages from a specified conda\n",
      "                      environment.\n",
      "    rename            Rename an existing environment.\n",
      "    render            Expand a conda recipe into a platform-specific recipe.\n",
      "    repo              See `conda repo --help`.\n",
      "    repoquery         Advanced search for repodata.\n",
      "    run               Run an executable in a conda environment.\n",
      "    search            Search for packages and display associated information\n",
      "                      using the MatchSpec format.\n",
      "    server            See `conda server --help`.\n",
      "    skeleton          Generate boilerplate conda recipes.\n",
      "    token             See `conda token --help`.\n",
      "    update (upgrade)  Update conda packages to the latest compatible version.\n",
      "    verify            See `conda verify --help`.\n",
      "\n",
      "Note: you may need to restart the kernel to use updated packages.\n"
     ]
    }
   ],
   "source": [
    "conda"
   ]
  },
  {
   "cell_type": "code",
   "execution_count": 1,
   "id": "cc579f73",
   "metadata": {},
   "outputs": [
    {
     "name": "stdout",
     "output_type": "stream",
     "text": [
      "# conda environments:\n",
      "#\n",
      "base                     C:\\Users\\ebjor\\anaconda\n",
      "ddm2                  *  C:\\Users\\ebjor\\anaconda\\envs\\ddm2\n",
      "test_env                 C:\\Users\\ebjor\\anaconda\\envs\\test_env\n",
      "\n",
      "\n",
      "Note: you may need to restart the kernel to use updated packages.\n"
     ]
    }
   ],
   "source": [
    "conda env list"
   ]
  },
  {
   "cell_type": "code",
   "execution_count": 2,
   "id": "c4d51bba",
   "metadata": {},
   "outputs": [
    {
     "name": "stdout",
     "output_type": "stream",
     "text": [
      "\n",
      "Note: you may need to restart the kernel to use updated packages.\n"
     ]
    }
   ],
   "source": [
    "conda activate ddm2"
   ]
  },
  {
   "cell_type": "code",
   "execution_count": 3,
   "id": "823f0f2f",
   "metadata": {},
   "outputs": [
    {
     "name": "stdout",
     "output_type": "stream",
     "text": [
      "CUDA_HOME: C:\\Program Files\\NVIDIA GPU Computing Toolkit\\CUDA\\v10.2\n",
      "CUDA_PATH: C:\\Program Files\\NVIDIA GPU Computing Toolkit\\CUDA\\v10.2\n",
      "PATH: C:\\Program Files\\NVIDIA GPU Computing Toolkit\\CUDA\\v10.2\\bin;C:\\Program Files\\NVIDIA GPU Computing Toolkit\\CUDA\\v10.2\\libnvvp;c:\\Users\\ebjor\\anaconda\\envs\\ddm2;C:\\Users\\ebjor\\anaconda\\envs\\ddm2;C:\\Users\\ebjor\\anaconda\\envs\\ddm2\\Library\\mingw-w64\\bin;C:\\Users\\ebjor\\anaconda\\envs\\ddm2\\Library\\usr\\bin;C:\\Users\\ebjor\\anaconda\\envs\\ddm2\\Library\\bin;C:\\Users\\ebjor\\anaconda\\envs\\ddm2\\Scripts;C:\\Users\\ebjor\\anaconda\\envs\\ddm2\\bin;C:\\Users\\ebjor\\anaconda\\condabin;C:\\Users\\ebjor\\anaconda;C:\\Users\\ebjor\\anaconda\\Library\\mingw-w64\\bin;C:\\Users\\ebjor\\anaconda\\Library\\usr\\bin;C:\\Users\\ebjor\\anaconda\\Library\\bin;C:\\Users\\ebjor\\anaconda\\Scripts;C:\\Program Files\\NVIDIA\\CUDNN\\v9.1\\bin;C:\\Program Files\\NVIDIA GPU Computing Toolkit\\CUDA\\v12.5\\bin;C:\\Program Files\\NVIDIA GPU Computing Toolkit\\CUDA\\v12.5\\libnvvp;C:\\Program Files\\Oculus\\Support\\oculus-runtime;C:\\Windows\\system32;C:\\Windows;C:\\Windows\\System32\\Wbem;C:\\Windows\\System32\\WindowsPowerShell\\v1.0;C:\\Windows\\System32\\OpenSSH;C:\\Program Files (x86)\\NVIDIA Corporation\\PhysX\\Common;C:\\Program Files\\NVIDIA Corporation\\NVIDIA NvDLISR;C:\\Program Files\\dotnet;C:\\WINDOWS\\system32;C:\\WINDOWS;C:\\WINDOWS\\System32\\Wbem;C:\\WINDOWS\\System32\\WindowsPowerShell\\v1.0;C:\\WINDOWS\\System32\\OpenSSH;C:\\Program Files\\Git\\cmd;C:\\Program Files\\NVIDIA Corporation\\Nsight Compute 2024.2.0;C:\\Users\\ebjor\\anaconda;C:\\Users\\ebjor\\anaconda\\Library\\mingw-w64\\bin;C:\\Users\\ebjor\\anaconda\\Library\\usr\\bin;C:\\Users\\ebjor\\anaconda\\Library\\bin;C:\\Users\\ebjor\\anaconda\\Scripts;C:\\Users\\ebjor\\AppData\\Local\\Microsoft\\WindowsApps;C:\\Users\\ebjor\\AppData\\Local\\Programs\\Microsoft VS Code\\bin\n",
      "nvcc: NVIDIA (R) Cuda compiler driver\n",
      "Copyright (c) 2005-2019 NVIDIA Corporation\n",
      "Built on Wed_Oct_23_19:32:27_Pacific_Daylight_Time_2019\n",
      "Cuda compilation tools, release 10.2, V10.2.89\n"
     ]
    }
   ],
   "source": [
    "import os\n",
    "\n",
    "# Set environment variables\n",
    "os.environ['CUDA_HOME'] = r'C:\\Program Files\\NVIDIA GPU Computing Toolkit\\CUDA\\v10.2'\n",
    "os.environ['CUDA_PATH'] = r'C:\\Program Files\\NVIDIA GPU Computing Toolkit\\CUDA\\v10.2'\n",
    "os.environ['PATH'] = os.environ['CUDA_HOME'] + r'\\bin;' + os.environ['CUDA_HOME'] + r'\\libnvvp;' + os.environ['PATH']\n",
    "\n",
    "# Verify the environment variables\n",
    "print('CUDA_HOME:', os.environ['CUDA_HOME'])\n",
    "print('CUDA_PATH:', os.environ['CUDA_PATH'])\n",
    "print('PATH:', os.environ['PATH'])\n",
    "\n",
    "# Verify CUDA version\n",
    "!nvcc --version\n"
   ]
  },
  {
   "cell_type": "code",
   "execution_count": 9,
   "id": "d5e6f5a2",
   "metadata": {},
   "outputs": [
    {
     "ename": "OSError",
     "evalue": "[WinError 127] The specified procedure could not be found. Error loading \"c:\\Users\\ebjor\\anaconda\\envs\\ddm2\\lib\\site-packages\\torch\\lib\\caffe2_detectron_ops.dll\" or one of its dependencies.",
     "output_type": "error",
     "traceback": [
      "\u001b[1;31m---------------------------------------------------------------------------\u001b[0m",
      "\u001b[1;31mOSError\u001b[0m                                   Traceback (most recent call last)",
      "Cell \u001b[1;32mIn[9], line 1\u001b[0m\n\u001b[1;32m----> 1\u001b[0m \u001b[38;5;28;01mimport\u001b[39;00m \u001b[38;5;21;01mtorch\u001b[39;00m\n\u001b[0;32m      3\u001b[0m \u001b[38;5;28mprint\u001b[39m(\u001b[38;5;124m\"\u001b[39m\u001b[38;5;124mPyTorch version:\u001b[39m\u001b[38;5;124m\"\u001b[39m, torch\u001b[38;5;241m.\u001b[39m__version__)\n\u001b[0;32m      4\u001b[0m \u001b[38;5;28mprint\u001b[39m(\u001b[38;5;124m\"\u001b[39m\u001b[38;5;124mCUDA available:\u001b[39m\u001b[38;5;124m\"\u001b[39m, torch\u001b[38;5;241m.\u001b[39mcuda\u001b[38;5;241m.\u001b[39mis_available())\n",
      "File \u001b[1;32mc:\\Users\\ebjor\\anaconda\\envs\\ddm2\\lib\\site-packages\\torch\\__init__.py:130\u001b[0m\n\u001b[0;32m    128\u001b[0m     err \u001b[38;5;241m=\u001b[39m ctypes\u001b[38;5;241m.\u001b[39mWinError(last_error)\n\u001b[0;32m    129\u001b[0m     err\u001b[38;5;241m.\u001b[39mstrerror \u001b[38;5;241m+\u001b[39m\u001b[38;5;241m=\u001b[39m \u001b[38;5;124mf\u001b[39m\u001b[38;5;124m'\u001b[39m\u001b[38;5;124m Error loading \u001b[39m\u001b[38;5;124m\"\u001b[39m\u001b[38;5;132;01m{\u001b[39;00mdll\u001b[38;5;132;01m}\u001b[39;00m\u001b[38;5;124m\"\u001b[39m\u001b[38;5;124m or one of its dependencies.\u001b[39m\u001b[38;5;124m'\u001b[39m\n\u001b[1;32m--> 130\u001b[0m     \u001b[38;5;28;01mraise\u001b[39;00m err\n\u001b[0;32m    131\u001b[0m \u001b[38;5;28;01melif\u001b[39;00m res \u001b[38;5;129;01mis\u001b[39;00m \u001b[38;5;129;01mnot\u001b[39;00m \u001b[38;5;28;01mNone\u001b[39;00m:\n\u001b[0;32m    132\u001b[0m     is_loaded \u001b[38;5;241m=\u001b[39m \u001b[38;5;28;01mTrue\u001b[39;00m\n",
      "\u001b[1;31mOSError\u001b[0m: [WinError 127] The specified procedure could not be found. Error loading \"c:\\Users\\ebjor\\anaconda\\envs\\ddm2\\lib\\site-packages\\torch\\lib\\caffe2_detectron_ops.dll\" or one of its dependencies."
     ]
    }
   ],
   "source": [
    "import torch\n",
    "\n",
    "print(\"PyTorch version:\", torch.__version__)\n",
    "print(\"CUDA available:\", torch.cuda.is_available())\n",
    "print(\"Current device:\", torch.cuda.current_device())\n",
    "print(\"Device name:\", torch.cuda.get_device_name(0))\n"
   ]
  },
  {
   "cell_type": "code",
   "execution_count": 3,
   "id": "66d1ca22",
   "metadata": {},
   "outputs": [
    {
     "ename": "ImportError",
     "evalue": "cannot import name 'get_fnames' from 'dipy' (c:\\Users\\ebjor\\anaconda\\envs\\ddm2\\lib\\site-packages\\dipy\\__init__.py)",
     "output_type": "error",
     "traceback": [
      "\u001b[1;31m---------------------------------------------------------------------------\u001b[0m",
      "\u001b[1;31mImportError\u001b[0m                               Traceback (most recent call last)",
      "Cell \u001b[1;32mIn[3], line 1\u001b[0m\n\u001b[1;32m----> 1\u001b[0m \u001b[38;5;28;01mfrom\u001b[39;00m \u001b[38;5;21;01mdipy\u001b[39;00m \u001b[38;5;28;01mimport\u001b[39;00m get_fnames, load_nifti\n\u001b[0;32m      2\u001b[0m hardi_fname, hardi_bval_fname, hardi_bvec_fname \u001b[38;5;241m=\u001b[39m get_fnames(\u001b[38;5;124m'\u001b[39m\u001b[38;5;124mstanford_hardi\u001b[39m\u001b[38;5;124m'\u001b[39m)\n\u001b[0;32m      3\u001b[0m data, affine \u001b[38;5;241m=\u001b[39m load_nifti(hardi_fname)\n",
      "\u001b[1;31mImportError\u001b[0m: cannot import name 'get_fnames' from 'dipy' (c:\\Users\\ebjor\\anaconda\\envs\\ddm2\\lib\\site-packages\\dipy\\__init__.py)"
     ]
    }
   ],
   "source": [
    "from dipy import get_fnames, load_nifti\n",
    "hardi_fname, hardi_bval_fname, hardi_bvec_fname = get_fnames('stanford_hardi')\n",
    "data, affine = load_nifti(hardi_fname)"
   ]
  },
  {
   "cell_type": "code",
   "execution_count": 7,
   "id": "1587cdb2",
   "metadata": {},
   "outputs": [
    {
     "name": "stdout",
     "output_type": "stream",
     "text": [
      "Requirement already satisfied: dipy in c:\\users\\ebjor\\anaconda\\envs\\ddm2\\lib\\site-packages (1.5.0)\n",
      "Collecting dipy\n",
      "  Downloading dipy-1.8.0-cp38-cp38-win_amd64.whl.metadata (8.6 kB)\n",
      "Collecting cython!=0.29.29,>=0.29.24 (from dipy)\n",
      "  Downloading Cython-3.0.10-cp38-cp38-win_amd64.whl.metadata (3.2 kB)\n",
      "Collecting numpy>=1.22.4 (from dipy)\n",
      "  Downloading numpy-1.24.4-cp38-cp38-win_amd64.whl.metadata (5.6 kB)\n",
      "Requirement already satisfied: scipy>=1.8 in c:\\users\\ebjor\\anaconda\\envs\\ddm2\\lib\\site-packages (from dipy) (1.8.0)\n",
      "Requirement already satisfied: nibabel>=3.0.0 in c:\\users\\ebjor\\anaconda\\envs\\ddm2\\lib\\site-packages (from dipy) (3.2.2)\n",
      "Requirement already satisfied: h5py>=3.1.0 in c:\\users\\ebjor\\anaconda\\envs\\ddm2\\lib\\site-packages (from dipy) (3.6.0)\n",
      "Requirement already satisfied: packaging>=21 in c:\\users\\ebjor\\anaconda\\envs\\ddm2\\lib\\site-packages (from dipy) (21.3)\n",
      "Requirement already satisfied: tqdm>=4.30.0 in c:\\users\\ebjor\\anaconda\\envs\\ddm2\\lib\\site-packages (from dipy) (4.63.1)\n",
      "Collecting trx-python>=0.2.9 (from dipy)\n",
      "  Downloading trx_python-0.2.9-py3-none-any.whl.metadata (2.7 kB)\n",
      "Requirement already satisfied: setuptools in c:\\users\\ebjor\\anaconda\\envs\\ddm2\\lib\\site-packages (from nibabel>=3.0.0->dipy) (69.5.1)\n",
      "Requirement already satisfied: pyparsing!=3.0.5,>=2.0.2 in c:\\users\\ebjor\\anaconda\\envs\\ddm2\\lib\\site-packages (from packaging>=21->dipy) (3.0.7)\n",
      "Requirement already satisfied: colorama in c:\\users\\ebjor\\anaconda\\envs\\ddm2\\lib\\site-packages (from tqdm>=4.30.0->dipy) (0.4.6)\n",
      "Collecting setuptools-scm (from trx-python>=0.2.9->dipy)\n",
      "  Downloading setuptools_scm-8.1.0-py3-none-any.whl.metadata (6.6 kB)\n",
      "Collecting deepdiff (from trx-python>=0.2.9->dipy)\n",
      "  Downloading deepdiff-7.0.1-py3-none-any.whl.metadata (6.8 kB)\n",
      "Collecting nibabel>=3.0.0 (from dipy)\n",
      "  Downloading nibabel-5.2.1-py3-none-any.whl.metadata (8.8 kB)\n",
      "Collecting importlib-resources>=1.3 (from nibabel>=3.0.0->dipy)\n",
      "  Downloading importlib_resources-6.4.0-py3-none-any.whl.metadata (3.9 kB)\n",
      "Requirement already satisfied: zipp>=3.1.0 in c:\\users\\ebjor\\anaconda\\envs\\ddm2\\lib\\site-packages (from importlib-resources>=1.3->nibabel>=3.0.0->dipy) (3.17.0)\n",
      "Collecting ordered-set<4.2.0,>=4.1.0 (from deepdiff->trx-python>=0.2.9->dipy)\n",
      "  Downloading ordered_set-4.1.0-py3-none-any.whl.metadata (5.3 kB)\n",
      "Requirement already satisfied: typing-extensions in c:\\users\\ebjor\\anaconda\\envs\\ddm2\\lib\\site-packages (from setuptools-scm->trx-python>=0.2.9->dipy) (4.11.0)\n",
      "Collecting tomli>=1 (from setuptools-scm->trx-python>=0.2.9->dipy)\n",
      "  Downloading tomli-2.0.1-py3-none-any.whl.metadata (8.9 kB)\n",
      "Downloading dipy-1.8.0-cp38-cp38-win_amd64.whl (8.2 MB)\n",
      "   ---------------------------------------- 0.0/8.2 MB ? eta -:--:--\n",
      "   - -------------------------------------- 0.3/8.2 MB 7.0 MB/s eta 0:00:02\n",
      "   ------- -------------------------------- 1.6/8.2 MB 19.8 MB/s eta 0:00:01\n",
      "   ---------------- ----------------------- 3.4/8.2 MB 23.9 MB/s eta 0:00:01\n",
      "   -------------------------- ------------- 5.3/8.2 MB 30.8 MB/s eta 0:00:01\n",
      "   ---------------------------- ----------- 5.9/8.2 MB 26.7 MB/s eta 0:00:01\n",
      "   ---------------------------------------  8.0/8.2 MB 28.6 MB/s eta 0:00:01\n",
      "   ---------------------------------------- 8.2/8.2 MB 27.4 MB/s eta 0:00:00\n",
      "Downloading Cython-3.0.10-cp38-cp38-win_amd64.whl (2.8 MB)\n",
      "   ---------------------------------------- 0.0/2.8 MB ? eta -:--:--\n",
      "   ------------------------ --------------- 1.7/2.8 MB 55.5 MB/s eta 0:00:01\n",
      "   ---------------------------------------  2.8/2.8 MB 35.6 MB/s eta 0:00:01\n",
      "   ---------------------------------------- 2.8/2.8 MB 29.6 MB/s eta 0:00:00\n",
      "Downloading numpy-1.24.4-cp38-cp38-win_amd64.whl (14.9 MB)\n",
      "   ---------------------------------------- 0.0/14.9 MB ? eta -:--:--\n",
      "   ----- ---------------------------------- 2.2/14.9 MB 69.0 MB/s eta 0:00:01\n",
      "   ----------- ---------------------------- 4.3/14.9 MB 45.6 MB/s eta 0:00:01\n",
      "   -------------- ------------------------- 5.4/14.9 MB 43.1 MB/s eta 0:00:01\n",
      "   ----------------- ---------------------- 6.4/14.9 MB 41.0 MB/s eta 0:00:01\n",
      "   ----------------------- ---------------- 8.6/14.9 MB 39.3 MB/s eta 0:00:01\n",
      "   --------------------------- ------------ 10.3/14.9 MB 36.4 MB/s eta 0:00:01\n",
      "   ------------------------------- -------- 11.9/14.9 MB 34.4 MB/s eta 0:00:01\n",
      "   ------------------------------------ --- 13.7/14.9 MB 32.8 MB/s eta 0:00:01\n",
      "   ---------------------------------------  14.9/14.9 MB 36.3 MB/s eta 0:00:01\n",
      "   ---------------------------------------- 14.9/14.9 MB 29.7 MB/s eta 0:00:00\n",
      "Downloading trx_python-0.2.9-py3-none-any.whl (45 kB)\n",
      "   ---------------------------------------- 0.0/45.5 kB ? eta -:--:--\n",
      "   ---------------------------------------- 45.5/45.5 kB ? eta 0:00:00\n",
      "Downloading nibabel-5.2.1-py3-none-any.whl (3.3 MB)\n",
      "   ---------------------------------------- 0.0/3.3 MB ? eta -:--:--\n",
      "   ---------------- ----------------------- 1.4/3.3 MB 28.5 MB/s eta 0:00:01\n",
      "   ---------------------------------------  3.3/3.3 MB 42.0 MB/s eta 0:00:01\n",
      "   ---------------------------------------- 3.3/3.3 MB 35.0 MB/s eta 0:00:00\n",
      "Downloading importlib_resources-6.4.0-py3-none-any.whl (38 kB)\n",
      "Downloading deepdiff-7.0.1-py3-none-any.whl (80 kB)\n",
      "   ---------------------------------------- 0.0/80.8 kB ? eta -:--:--\n",
      "   ---------------------------------------- 80.8/80.8 kB 4.4 MB/s eta 0:00:00\n",
      "Downloading setuptools_scm-8.1.0-py3-none-any.whl (43 kB)\n",
      "   ---------------------------------------- 0.0/43.7 kB ? eta -:--:--\n",
      "   ---------------------------------------- 43.7/43.7 kB ? eta 0:00:00\n",
      "Downloading ordered_set-4.1.0-py3-none-any.whl (7.6 kB)\n",
      "Downloading tomli-2.0.1-py3-none-any.whl (12 kB)\n",
      "Installing collected packages: tomli, ordered-set, numpy, importlib-resources, cython, setuptools-scm, nibabel, deepdiff, trx-python, dipy\n",
      "  Attempting uninstall: numpy\n",
      "    Found existing installation: numpy 1.22.3\n",
      "    Uninstalling numpy-1.22.3:\n",
      "      Successfully uninstalled numpy-1.22.3\n",
      "  Attempting uninstall: nibabel\n",
      "    Found existing installation: nibabel 3.2.2\n",
      "    Uninstalling nibabel-3.2.2:\n",
      "      Successfully uninstalled nibabel-3.2.2\n",
      "  Attempting uninstall: dipy\n",
      "    Found existing installation: dipy 1.5.0\n",
      "    Uninstalling dipy-1.5.0:\n",
      "      Successfully uninstalled dipy-1.5.0\n",
      "Successfully installed cython-3.0.10 deepdiff-7.0.1 dipy-1.8.0 importlib-resources-6.4.0 nibabel-5.2.1 numpy-1.24.4 ordered-set-4.1.0 setuptools-scm-8.1.0 tomli-2.0.1 trx-python-0.2.9\n",
      "Note: you may need to restart the kernel to use updated packages.\n"
     ]
    },
    {
     "name": "stderr",
     "output_type": "stream",
     "text": [
      "WARNING: Retrying (Retry(total=4, connect=None, read=None, redirect=None, status=None)) after connection broken by 'ProtocolError('Connection aborted.', ConnectionResetError(10054, 'An existing connection was forcibly closed by the remote host', None, 10054, None))': /simple/dipy/\n",
      "  WARNING: Failed to remove contents in a temporary directory 'C:\\Users\\ebjor\\anaconda\\envs\\ddm2\\Lib\\site-packages\\~umpy'.\n",
      "  You can safely remove it manually.\n",
      "  WARNING: Failed to remove contents in a temporary directory 'C:\\Users\\ebjor\\anaconda\\envs\\ddm2\\Lib\\site-packages\\~ipy'.\n",
      "  You can safely remove it manually.\n"
     ]
    }
   ],
   "source": [
    "pip install --upgrade dipy\n"
   ]
  },
  {
   "cell_type": "code",
   "execution_count": 2,
   "id": "33bf9c6e",
   "metadata": {},
   "outputs": [
    {
     "name": "stdout",
     "output_type": "stream",
     "text": [
      "Data shape: (81, 106, 76, 160)\n",
      "Affine matrix: [[   2.    0.    0.  -80.]\n",
      " [   0.    2.    0. -120.]\n",
      " [   0.    0.    2.  -60.]\n",
      " [   0.    0.    0.    1.]]\n"
     ]
    }
   ],
   "source": [
    "from dipy.data import fetch_stanford_hardi, read_stanford_hardi\n",
    "\n",
    "# Fetch the Stanford HARDI dataset\n",
    "fetch_stanford_hardi()\n",
    "\n",
    "# Load the data and gradient table\n",
    "img, gtab = read_stanford_hardi()\n",
    "\n",
    "# Extract data and affine from the Nifti image\n",
    "data = img.get_fdata()\n",
    "affine = img.affine\n",
    "\n",
    "print(\"Data shape:\", data.shape)\n",
    "print(\"Affine matrix:\", affine)\n"
   ]
  },
  {
   "cell_type": "code",
   "execution_count": 3,
   "id": "1d92a4c0",
   "metadata": {},
   "outputs": [
    {
     "name": "stdout",
     "output_type": "stream",
     "text": [
      "DIPY home directory: C:\\Users\\ebjor\\.dipy\n",
      "Contents:\n",
      "['stanford_hardi']\n"
     ]
    }
   ],
   "source": [
    "import os\n",
    "from dipy.data.fetcher import dipy_home\n",
    "\n",
    "# Get the dipy home directory\n",
    "home_dir = dipy_home\n",
    "\n",
    "# List the contents of the directory\n",
    "print(f\"DIPY home directory: {home_dir}\")\n",
    "print(\"Contents:\")\n",
    "print(os.listdir(home_dir))\n"
   ]
  },
  {
   "cell_type": "code",
   "execution_count": 4,
   "id": "6eb887d9",
   "metadata": {},
   "outputs": [
    {
     "name": "stdout",
     "output_type": "stream",
     "text": [
      "Data shape: (81, 106, 76, 160)\n",
      "Affine matrix: [[   2.    0.    0.  -80.]\n",
      " [   0.    2.    0. -120.]\n",
      " [   0.    0.    2.  -60.]\n",
      " [   0.    0.    0.    1.]]\n",
      "Custom DIPY home directory: C:/Users/ebjor/DDM2/dipy_data\n",
      "Contents:\n"
     ]
    }
   ],
   "source": [
    "import os\n",
    "from dipy.data import fetch_stanford_hardi, read_stanford_hardi\n",
    "\n",
    "# Set custom directory for DIPY datasets\n",
    "custom_dipy_home = \"C:/Users/ebjor/DDM2/dipy_data\"\n",
    "os.makedirs(custom_dipy_home, exist_ok=True)\n",
    "os.environ['DIPY_HOME'] = custom_dipy_home\n",
    "\n",
    "# Fetch the Stanford HARDI dataset\n",
    "fetch_stanford_hardi()\n",
    "\n",
    "# Load the data and gradient table\n",
    "img, gtab = read_stanford_hardi()\n",
    "\n",
    "# Extract data and affine from the Nifti image\n",
    "data = img.get_fdata()\n",
    "affine = img.affine\n",
    "\n",
    "print(\"Data shape:\", data.shape)\n",
    "print(\"Affine matrix:\", affine)\n",
    "print(f\"Custom DIPY home directory: {custom_dipy_home}\")\n",
    "print(\"Contents:\")\n",
    "\n",
    "# List contents of the custom DIPY home directory and its subdirectories\n",
    "for root, dirs, files in os.walk(custom_dipy_home):\n",
    "    for name in dirs:\n",
    "        print(f\"Directory: {os.path.join(root, name)}\")\n",
    "    for name in files:\n",
    "        print(f\"File: {os.path.join(root, name)}\")\n"
   ]
  },
  {
   "cell_type": "code",
   "execution_count": 5,
   "id": "c70b623b",
   "metadata": {},
   "outputs": [
    {
     "data": {
      "text/plain": [
       "array([[[[0., 0., 0., ..., 0., 0., 0.],\n",
       "         [0., 0., 0., ..., 0., 0., 0.],\n",
       "         [0., 0., 0., ..., 0., 0., 0.],\n",
       "         ...,\n",
       "         [0., 0., 0., ..., 0., 0., 0.],\n",
       "         [0., 0., 0., ..., 0., 0., 0.],\n",
       "         [0., 0., 0., ..., 0., 0., 0.]],\n",
       "\n",
       "        [[0., 0., 0., ..., 0., 0., 0.],\n",
       "         [0., 0., 0., ..., 0., 0., 0.],\n",
       "         [0., 0., 0., ..., 0., 0., 0.],\n",
       "         ...,\n",
       "         [0., 0., 0., ..., 0., 0., 0.],\n",
       "         [0., 0., 0., ..., 0., 0., 0.],\n",
       "         [0., 0., 0., ..., 0., 0., 0.]],\n",
       "\n",
       "        [[0., 0., 0., ..., 0., 0., 0.],\n",
       "         [0., 0., 0., ..., 0., 0., 0.],\n",
       "         [0., 0., 0., ..., 0., 0., 0.],\n",
       "         ...,\n",
       "         [0., 0., 0., ..., 0., 0., 0.],\n",
       "         [0., 0., 0., ..., 0., 0., 0.],\n",
       "         [0., 0., 0., ..., 0., 0., 0.]],\n",
       "\n",
       "        ...,\n",
       "\n",
       "        [[0., 0., 0., ..., 0., 0., 0.],\n",
       "         [0., 0., 0., ..., 0., 0., 0.],\n",
       "         [0., 0., 0., ..., 0., 0., 0.],\n",
       "         ...,\n",
       "         [0., 0., 0., ..., 0., 0., 0.],\n",
       "         [0., 0., 0., ..., 0., 0., 0.],\n",
       "         [0., 0., 0., ..., 0., 0., 0.]],\n",
       "\n",
       "        [[1., 0., 0., ..., 0., 0., 0.],\n",
       "         [0., 0., 0., ..., 0., 0., 0.],\n",
       "         [0., 0., 0., ..., 0., 0., 0.],\n",
       "         ...,\n",
       "         [0., 0., 0., ..., 0., 0., 0.],\n",
       "         [0., 0., 0., ..., 0., 0., 0.],\n",
       "         [0., 0., 0., ..., 0., 0., 0.]],\n",
       "\n",
       "        [[0., 0., 0., ..., 0., 0., 0.],\n",
       "         [0., 0., 0., ..., 0., 0., 0.],\n",
       "         [0., 0., 0., ..., 0., 0., 0.],\n",
       "         ...,\n",
       "         [0., 0., 0., ..., 0., 0., 0.],\n",
       "         [0., 0., 0., ..., 0., 0., 0.],\n",
       "         [0., 0., 0., ..., 0., 0., 0.]]],\n",
       "\n",
       "\n",
       "       [[[0., 0., 0., ..., 0., 0., 0.],\n",
       "         [0., 0., 0., ..., 0., 0., 0.],\n",
       "         [0., 0., 0., ..., 0., 0., 0.],\n",
       "         ...,\n",
       "         [0., 0., 0., ..., 0., 0., 0.],\n",
       "         [0., 0., 0., ..., 0., 0., 0.],\n",
       "         [0., 0., 0., ..., 0., 0., 0.]],\n",
       "\n",
       "        [[0., 0., 0., ..., 0., 0., 0.],\n",
       "         [0., 0., 0., ..., 0., 0., 0.],\n",
       "         [0., 0., 0., ..., 0., 0., 0.],\n",
       "         ...,\n",
       "         [0., 0., 0., ..., 0., 0., 0.],\n",
       "         [0., 0., 0., ..., 0., 0., 0.],\n",
       "         [0., 0., 0., ..., 0., 0., 0.]],\n",
       "\n",
       "        [[0., 0., 0., ..., 0., 0., 0.],\n",
       "         [0., 0., 0., ..., 0., 0., 0.],\n",
       "         [0., 0., 0., ..., 0., 0., 0.],\n",
       "         ...,\n",
       "         [0., 0., 0., ..., 0., 0., 0.],\n",
       "         [0., 0., 0., ..., 0., 0., 0.],\n",
       "         [0., 0., 0., ..., 0., 0., 0.]],\n",
       "\n",
       "        ...,\n",
       "\n",
       "        [[0., 0., 1., ..., 0., 0., 0.],\n",
       "         [0., 0., 0., ..., 0., 0., 0.],\n",
       "         [0., 0., 0., ..., 0., 0., 0.],\n",
       "         ...,\n",
       "         [0., 0., 0., ..., 0., 0., 0.],\n",
       "         [0., 0., 0., ..., 0., 0., 0.],\n",
       "         [0., 0., 0., ..., 0., 0., 0.]],\n",
       "\n",
       "        [[1., 0., 0., ..., 0., 0., 0.],\n",
       "         [0., 0., 0., ..., 0., 0., 0.],\n",
       "         [0., 0., 0., ..., 0., 0., 0.],\n",
       "         ...,\n",
       "         [0., 0., 0., ..., 0., 0., 0.],\n",
       "         [0., 0., 0., ..., 0., 0., 0.],\n",
       "         [0., 0., 0., ..., 0., 0., 0.]],\n",
       "\n",
       "        [[0., 0., 0., ..., 0., 0., 0.],\n",
       "         [0., 0., 0., ..., 0., 0., 0.],\n",
       "         [0., 0., 0., ..., 0., 0., 0.],\n",
       "         ...,\n",
       "         [0., 0., 0., ..., 0., 0., 0.],\n",
       "         [0., 0., 0., ..., 0., 0., 0.],\n",
       "         [0., 0., 0., ..., 0., 0., 0.]]],\n",
       "\n",
       "\n",
       "       [[[0., 0., 0., ..., 0., 0., 0.],\n",
       "         [0., 0., 0., ..., 0., 0., 0.],\n",
       "         [0., 0., 0., ..., 0., 0., 0.],\n",
       "         ...,\n",
       "         [0., 0., 0., ..., 0., 0., 0.],\n",
       "         [0., 0., 0., ..., 0., 0., 0.],\n",
       "         [0., 0., 0., ..., 0., 0., 0.]],\n",
       "\n",
       "        [[0., 0., 0., ..., 0., 0., 0.],\n",
       "         [0., 0., 0., ..., 0., 0., 0.],\n",
       "         [0., 0., 0., ..., 0., 0., 0.],\n",
       "         ...,\n",
       "         [0., 0., 0., ..., 0., 0., 0.],\n",
       "         [0., 0., 0., ..., 0., 0., 0.],\n",
       "         [0., 0., 0., ..., 0., 0., 0.]],\n",
       "\n",
       "        [[0., 0., 0., ..., 0., 0., 0.],\n",
       "         [0., 0., 0., ..., 0., 0., 0.],\n",
       "         [0., 0., 0., ..., 0., 0., 0.],\n",
       "         ...,\n",
       "         [0., 0., 0., ..., 0., 0., 0.],\n",
       "         [0., 0., 0., ..., 0., 0., 0.],\n",
       "         [0., 0., 0., ..., 0., 0., 0.]],\n",
       "\n",
       "        ...,\n",
       "\n",
       "        [[0., 0., 0., ..., 0., 0., 0.],\n",
       "         [0., 0., 0., ..., 0., 0., 0.],\n",
       "         [0., 0., 0., ..., 0., 0., 0.],\n",
       "         ...,\n",
       "         [0., 0., 0., ..., 0., 0., 0.],\n",
       "         [0., 0., 0., ..., 0., 0., 0.],\n",
       "         [0., 0., 0., ..., 0., 0., 0.]],\n",
       "\n",
       "        [[0., 0., 0., ..., 0., 0., 0.],\n",
       "         [0., 0., 0., ..., 0., 0., 0.],\n",
       "         [0., 0., 0., ..., 0., 0., 0.],\n",
       "         ...,\n",
       "         [0., 0., 0., ..., 0., 0., 0.],\n",
       "         [0., 0., 0., ..., 0., 0., 0.],\n",
       "         [0., 0., 0., ..., 0., 0., 0.]],\n",
       "\n",
       "        [[0., 1., 0., ..., 0., 0., 0.],\n",
       "         [0., 0., 0., ..., 0., 0., 0.],\n",
       "         [0., 0., 0., ..., 0., 0., 0.],\n",
       "         ...,\n",
       "         [0., 0., 0., ..., 0., 0., 0.],\n",
       "         [0., 0., 0., ..., 0., 0., 0.],\n",
       "         [0., 0., 0., ..., 0., 0., 0.]]],\n",
       "\n",
       "\n",
       "       ...,\n",
       "\n",
       "\n",
       "       [[[0., 0., 0., ..., 0., 0., 0.],\n",
       "         [0., 0., 0., ..., 0., 0., 0.],\n",
       "         [0., 0., 0., ..., 0., 0., 0.],\n",
       "         ...,\n",
       "         [0., 0., 0., ..., 0., 0., 0.],\n",
       "         [0., 0., 0., ..., 0., 0., 0.],\n",
       "         [0., 0., 0., ..., 0., 0., 0.]],\n",
       "\n",
       "        [[0., 0., 0., ..., 0., 0., 0.],\n",
       "         [0., 0., 0., ..., 0., 0., 0.],\n",
       "         [0., 0., 0., ..., 0., 0., 0.],\n",
       "         ...,\n",
       "         [0., 0., 0., ..., 0., 0., 0.],\n",
       "         [0., 0., 0., ..., 0., 0., 0.],\n",
       "         [0., 0., 0., ..., 0., 0., 0.]],\n",
       "\n",
       "        [[0., 0., 0., ..., 0., 0., 0.],\n",
       "         [0., 0., 0., ..., 0., 0., 0.],\n",
       "         [0., 0., 0., ..., 0., 0., 0.],\n",
       "         ...,\n",
       "         [0., 0., 0., ..., 0., 0., 0.],\n",
       "         [0., 0., 0., ..., 0., 0., 0.],\n",
       "         [0., 0., 0., ..., 0., 0., 0.]],\n",
       "\n",
       "        ...,\n",
       "\n",
       "        [[0., 0., 0., ..., 0., 0., 0.],\n",
       "         [0., 0., 0., ..., 0., 0., 0.],\n",
       "         [0., 0., 0., ..., 0., 0., 0.],\n",
       "         ...,\n",
       "         [0., 0., 0., ..., 0., 0., 0.],\n",
       "         [0., 0., 0., ..., 0., 0., 0.],\n",
       "         [0., 0., 0., ..., 0., 0., 0.]],\n",
       "\n",
       "        [[0., 0., 0., ..., 0., 0., 0.],\n",
       "         [0., 0., 0., ..., 0., 0., 0.],\n",
       "         [0., 0., 0., ..., 0., 0., 0.],\n",
       "         ...,\n",
       "         [0., 0., 0., ..., 0., 0., 0.],\n",
       "         [0., 0., 0., ..., 0., 0., 0.],\n",
       "         [0., 0., 0., ..., 0., 0., 0.]],\n",
       "\n",
       "        [[0., 0., 0., ..., 0., 0., 0.],\n",
       "         [0., 0., 0., ..., 0., 0., 0.],\n",
       "         [0., 0., 0., ..., 0., 0., 0.],\n",
       "         ...,\n",
       "         [0., 0., 0., ..., 0., 0., 0.],\n",
       "         [0., 0., 0., ..., 0., 0., 0.],\n",
       "         [0., 0., 0., ..., 0., 0., 0.]]],\n",
       "\n",
       "\n",
       "       [[[0., 0., 0., ..., 0., 0., 0.],\n",
       "         [0., 0., 0., ..., 0., 0., 0.],\n",
       "         [0., 0., 0., ..., 0., 0., 0.],\n",
       "         ...,\n",
       "         [0., 0., 0., ..., 0., 0., 0.],\n",
       "         [0., 0., 0., ..., 0., 0., 0.],\n",
       "         [0., 0., 0., ..., 0., 0., 0.]],\n",
       "\n",
       "        [[0., 0., 0., ..., 0., 0., 0.],\n",
       "         [0., 0., 0., ..., 0., 0., 0.],\n",
       "         [0., 0., 0., ..., 0., 0., 0.],\n",
       "         ...,\n",
       "         [0., 0., 0., ..., 0., 0., 0.],\n",
       "         [0., 0., 0., ..., 0., 0., 0.],\n",
       "         [0., 0., 0., ..., 0., 0., 0.]],\n",
       "\n",
       "        [[0., 0., 0., ..., 0., 0., 0.],\n",
       "         [0., 0., 0., ..., 0., 0., 0.],\n",
       "         [0., 0., 0., ..., 0., 0., 0.],\n",
       "         ...,\n",
       "         [0., 0., 0., ..., 0., 0., 0.],\n",
       "         [0., 0., 0., ..., 0., 0., 0.],\n",
       "         [0., 0., 0., ..., 0., 0., 0.]],\n",
       "\n",
       "        ...,\n",
       "\n",
       "        [[0., 0., 0., ..., 0., 0., 0.],\n",
       "         [0., 0., 0., ..., 0., 0., 0.],\n",
       "         [0., 0., 0., ..., 0., 0., 0.],\n",
       "         ...,\n",
       "         [0., 0., 0., ..., 0., 0., 0.],\n",
       "         [0., 0., 0., ..., 0., 0., 0.],\n",
       "         [0., 0., 0., ..., 0., 0., 0.]],\n",
       "\n",
       "        [[0., 0., 0., ..., 0., 0., 0.],\n",
       "         [0., 0., 0., ..., 0., 0., 0.],\n",
       "         [0., 0., 0., ..., 0., 0., 0.],\n",
       "         ...,\n",
       "         [0., 0., 0., ..., 0., 0., 0.],\n",
       "         [0., 0., 0., ..., 0., 0., 0.],\n",
       "         [0., 0., 0., ..., 0., 0., 0.]],\n",
       "\n",
       "        [[0., 0., 0., ..., 0., 0., 0.],\n",
       "         [0., 0., 0., ..., 0., 0., 0.],\n",
       "         [0., 0., 0., ..., 0., 0., 0.],\n",
       "         ...,\n",
       "         [0., 0., 0., ..., 0., 0., 0.],\n",
       "         [0., 0., 0., ..., 0., 0., 0.],\n",
       "         [0., 0., 0., ..., 0., 0., 0.]]],\n",
       "\n",
       "\n",
       "       [[[0., 0., 0., ..., 0., 0., 0.],\n",
       "         [0., 0., 0., ..., 0., 0., 0.],\n",
       "         [0., 0., 0., ..., 0., 0., 0.],\n",
       "         ...,\n",
       "         [0., 0., 0., ..., 0., 0., 0.],\n",
       "         [0., 0., 0., ..., 0., 0., 0.],\n",
       "         [0., 0., 0., ..., 0., 0., 0.]],\n",
       "\n",
       "        [[0., 0., 0., ..., 0., 0., 0.],\n",
       "         [0., 0., 0., ..., 0., 0., 0.],\n",
       "         [0., 0., 0., ..., 0., 0., 0.],\n",
       "         ...,\n",
       "         [0., 0., 0., ..., 0., 0., 0.],\n",
       "         [0., 0., 0., ..., 0., 0., 0.],\n",
       "         [0., 0., 0., ..., 0., 0., 0.]],\n",
       "\n",
       "        [[0., 0., 0., ..., 0., 0., 0.],\n",
       "         [0., 0., 0., ..., 0., 0., 0.],\n",
       "         [0., 0., 0., ..., 0., 0., 0.],\n",
       "         ...,\n",
       "         [0., 0., 0., ..., 0., 0., 0.],\n",
       "         [0., 0., 0., ..., 0., 0., 0.],\n",
       "         [0., 0., 0., ..., 0., 0., 0.]],\n",
       "\n",
       "        ...,\n",
       "\n",
       "        [[0., 0., 0., ..., 0., 0., 0.],\n",
       "         [0., 0., 0., ..., 0., 0., 0.],\n",
       "         [0., 0., 0., ..., 0., 0., 0.],\n",
       "         ...,\n",
       "         [0., 0., 0., ..., 0., 0., 0.],\n",
       "         [0., 0., 0., ..., 0., 0., 0.],\n",
       "         [0., 0., 0., ..., 0., 0., 0.]],\n",
       "\n",
       "        [[0., 0., 0., ..., 0., 0., 0.],\n",
       "         [0., 0., 0., ..., 0., 0., 0.],\n",
       "         [0., 0., 0., ..., 0., 0., 0.],\n",
       "         ...,\n",
       "         [0., 0., 0., ..., 0., 0., 0.],\n",
       "         [0., 0., 0., ..., 0., 0., 0.],\n",
       "         [0., 0., 0., ..., 0., 0., 0.]],\n",
       "\n",
       "        [[0., 0., 0., ..., 0., 0., 0.],\n",
       "         [0., 0., 0., ..., 0., 0., 0.],\n",
       "         [0., 0., 0., ..., 0., 0., 0.],\n",
       "         ...,\n",
       "         [0., 0., 0., ..., 0., 0., 0.],\n",
       "         [0., 0., 0., ..., 0., 0., 0.],\n",
       "         [0., 0., 0., ..., 0., 0., 0.]]]])"
      ]
     },
     "execution_count": 5,
     "metadata": {},
     "output_type": "execute_result"
    }
   ],
   "source": [
    "data"
   ]
  },
  {
   "cell_type": "code",
   "execution_count": 6,
   "id": "891c38e7",
   "metadata": {},
   "outputs": [
    {
     "data": {
      "text/plain": [
       "81"
      ]
     },
     "execution_count": 6,
     "metadata": {},
     "output_type": "execute_result"
    }
   ],
   "source": [
    "len(data)"
   ]
  },
  {
   "cell_type": "code",
   "execution_count": 7,
   "id": "d070e045",
   "metadata": {},
   "outputs": [
    {
     "data": {
      "text/plain": [
       "(81, 106, 76, 160)"
      ]
     },
     "execution_count": 7,
     "metadata": {},
     "output_type": "execute_result"
    }
   ],
   "source": [
    "data.shape"
   ]
  },
  {
   "cell_type": "code",
   "execution_count": 4,
   "id": "5d6212d9",
   "metadata": {},
   "outputs": [
    {
     "name": "stdout",
     "output_type": "stream",
     "text": [
      "Channels:\n",
      " - pytorch\n",
      " - defaults\n",
      " - conda-forge\n",
      "Platform: win-64\n",
      "Collecting package metadata (repodata.json): ...working... done\n",
      "Solving environment: ...working... done\n",
      "\n",
      "# All requested packages already installed.\n",
      "\n"
     ]
    }
   ],
   "source": [
    "#!conda remove pytorch torchvision torchaudio cudatoolkit -y\n",
    "!conda install pytorch torchvision torchaudio cudatoolkit=10.2 -c pytorch\n"
   ]
  },
  {
   "cell_type": "code",
   "execution_count": 5,
   "id": "a4c22ae8",
   "metadata": {},
   "outputs": [
    {
     "name": "stdout",
     "output_type": "stream",
     "text": [
      "nvcc: NVIDIA (R) Cuda compiler driver\n",
      "Copyright (c) 2005-2019 NVIDIA Corporation\n",
      "Built on Wed_Oct_23_19:32:27_Pacific_Daylight_Time_2019\n",
      "Cuda compilation tools, release 10.2, V10.2.89\n"
     ]
    }
   ],
   "source": [
    "!nvcc --version"
   ]
  },
  {
   "cell_type": "code",
   "execution_count": 6,
   "id": "9f789e02",
   "metadata": {},
   "outputs": [
    {
     "ename": "OSError",
     "evalue": "[WinError 127] The specified procedure could not be found. Error loading \"c:\\Users\\ebjor\\anaconda\\envs\\ddm2\\lib\\site-packages\\torch\\lib\\caffe2_detectron_ops.dll\" or one of its dependencies.",
     "output_type": "error",
     "traceback": [
      "\u001b[1;31m---------------------------------------------------------------------------\u001b[0m",
      "\u001b[1;31mOSError\u001b[0m                                   Traceback (most recent call last)",
      "Cell \u001b[1;32mIn[6], line 1\u001b[0m\n\u001b[1;32m----> 1\u001b[0m \u001b[38;5;28;01mimport\u001b[39;00m \u001b[38;5;21;01mtorch\u001b[39;00m\n\u001b[0;32m      3\u001b[0m \u001b[38;5;28mprint\u001b[39m(\u001b[38;5;124m\"\u001b[39m\u001b[38;5;124mPyTorch version:\u001b[39m\u001b[38;5;124m\"\u001b[39m, torch\u001b[38;5;241m.\u001b[39m__version__)\n\u001b[0;32m      4\u001b[0m \u001b[38;5;28mprint\u001b[39m(\u001b[38;5;124m\"\u001b[39m\u001b[38;5;124mCUDA available:\u001b[39m\u001b[38;5;124m\"\u001b[39m, torch\u001b[38;5;241m.\u001b[39mcuda\u001b[38;5;241m.\u001b[39mis_available())\n",
      "File \u001b[1;32mc:\\Users\\ebjor\\anaconda\\envs\\ddm2\\lib\\site-packages\\torch\\__init__.py:130\u001b[0m\n\u001b[0;32m    128\u001b[0m     err \u001b[38;5;241m=\u001b[39m ctypes\u001b[38;5;241m.\u001b[39mWinError(last_error)\n\u001b[0;32m    129\u001b[0m     err\u001b[38;5;241m.\u001b[39mstrerror \u001b[38;5;241m+\u001b[39m\u001b[38;5;241m=\u001b[39m \u001b[38;5;124mf\u001b[39m\u001b[38;5;124m'\u001b[39m\u001b[38;5;124m Error loading \u001b[39m\u001b[38;5;124m\"\u001b[39m\u001b[38;5;132;01m{\u001b[39;00mdll\u001b[38;5;132;01m}\u001b[39;00m\u001b[38;5;124m\"\u001b[39m\u001b[38;5;124m or one of its dependencies.\u001b[39m\u001b[38;5;124m'\u001b[39m\n\u001b[1;32m--> 130\u001b[0m     \u001b[38;5;28;01mraise\u001b[39;00m err\n\u001b[0;32m    131\u001b[0m \u001b[38;5;28;01melif\u001b[39;00m res \u001b[38;5;129;01mis\u001b[39;00m \u001b[38;5;129;01mnot\u001b[39;00m \u001b[38;5;28;01mNone\u001b[39;00m:\n\u001b[0;32m    132\u001b[0m     is_loaded \u001b[38;5;241m=\u001b[39m \u001b[38;5;28;01mTrue\u001b[39;00m\n",
      "\u001b[1;31mOSError\u001b[0m: [WinError 127] The specified procedure could not be found. Error loading \"c:\\Users\\ebjor\\anaconda\\envs\\ddm2\\lib\\site-packages\\torch\\lib\\caffe2_detectron_ops.dll\" or one of its dependencies."
     ]
    }
   ],
   "source": [
    "import torch\n",
    "\n",
    "print(\"PyTorch version:\", torch.__version__)\n",
    "print(\"CUDA available:\", torch.cuda.is_available())\n",
    "print(\"Current device:\", torch.cuda.current_device())\n",
    "print(\"Device name:\", torch.cuda.get_device_name(0))\n"
   ]
  },
  {
   "cell_type": "code",
   "execution_count": 5,
   "id": "19c4d569",
   "metadata": {},
   "outputs": [
    {
     "name": "stdout",
     "output_type": "stream",
     "text": [
      "nvcc: NVIDIA (R) Cuda compiler driver\n",
      "Copyright (c) 2005-2024 NVIDIA Corporation\n",
      "Built on Wed_Apr_17_19:36:51_Pacific_Daylight_Time_2024\n",
      "Cuda compilation tools, release 12.5, V12.5.40\n",
      "Build cuda_12.5.r12.5/compiler.34177558_0\n"
     ]
    }
   ],
   "source": [
    "!nvcc --version\n"
   ]
  },
  {
   "cell_type": "code",
   "execution_count": 6,
   "id": "265d2785",
   "metadata": {},
   "outputs": [
    {
     "name": "stdout",
     "output_type": "stream",
     "text": [
      "Sun Jun  2 02:56:41 2024       \n",
      "+-----------------------------------------------------------------------------------------+\n",
      "| NVIDIA-SMI 555.85                 Driver Version: 555.85         CUDA Version: 12.5     |\n",
      "|-----------------------------------------+------------------------+----------------------+\n",
      "| GPU  Name                  Driver-Model | Bus-Id          Disp.A | Volatile Uncorr. ECC |\n",
      "| Fan  Temp   Perf          Pwr:Usage/Cap |           Memory-Usage | GPU-Util  Compute M. |\n",
      "|                                         |                        |               MIG M. |\n",
      "|=========================================+========================+======================|\n",
      "|   0  NVIDIA GeForce RTX 2070 ...  WDDM  |   00000000:01:00.0 Off |                  N/A |\n",
      "| N/A   60C    P8             13W /   80W |       0MiB /   8192MiB |      0%      Default |\n",
      "|                                         |                        |                  N/A |\n",
      "+-----------------------------------------+------------------------+----------------------+\n",
      "                                                                                         \n",
      "+-----------------------------------------------------------------------------------------+\n",
      "| Processes:                                                                              |\n",
      "|  GPU   GI   CI        PID   Type   Process name                              GPU Memory |\n",
      "|        ID   ID                                                               Usage      |\n",
      "|=========================================================================================|\n",
      "|  No running processes found                                                             |\n",
      "+-----------------------------------------------------------------------------------------+\n"
     ]
    }
   ],
   "source": [
    "!nvidia-smi\n"
   ]
  },
  {
   "cell_type": "code",
   "execution_count": 1,
   "id": "4da0824f",
   "metadata": {},
   "outputs": [
    {
     "name": "stdout",
     "output_type": "stream",
     "text": [
      "nvcc: NVIDIA (R) Cuda compiler driver\n",
      "Copyright (c) 2005-2024 NVIDIA Corporation\n",
      "Built on Wed_Apr_17_19:36:51_Pacific_Daylight_Time_2024\n",
      "Cuda compilation tools, release 12.5, V12.5.40\n",
      "Build cuda_12.5.r12.5/compiler.34177558_0\n"
     ]
    }
   ],
   "source": [
    "!nvcc --version\n"
   ]
  },
  {
   "cell_type": "code",
   "execution_count": 5,
   "id": "80b368c6",
   "metadata": {},
   "outputs": [
    {
     "name": "stdout",
     "output_type": "stream",
     "text": [
      "Channels:\n",
      " - defaults\n",
      " - conda-forge\n",
      " - pytorch\n",
      "Platform: win-64\n",
      "Collecting package metadata (repodata.json): ...working... done\n",
      "Solving environment: ...working... done\n",
      "\n",
      "## Package Plan ##\n",
      "\n",
      "  environment location: c:\\Users\\ebjor\\anaconda\\envs\\ddm2\n",
      "\n",
      "  removed specs:\n",
      "    - cudatoolkit\n",
      "    - pytorch\n",
      "    - torchaudio\n",
      "    - torchvision\n",
      "\n",
      "\n",
      "The following packages will be REMOVED:\n",
      "\n",
      "  brotli-python-1.0.9-py38hd77b12b_8\n",
      "  charset-normalizer-2.0.4-pyhd3eb1b0_0\n",
      "  cudatoolkit-10.2.89-h74a9793_1\n",
      "  filelock-3.13.1-py38haa95532_0\n",
      "  gmpy2-2.1.2-py38h7f96b67_0\n",
      "  idna-3.7-py38haa95532_0\n",
      "  jinja2-3.1.4-py38haa95532_0\n",
      "  libjpeg-turbo-2.0.0-h196d8e1_0\n",
      "  markupsafe-2.1.3-py38h2bbff1b_0\n",
      "  mpc-1.1.0-h7edee0f_1\n",
      "  mpfr-4.0.2-h62dcd97_1\n",
      "  mpir-3.0.0-hec2e145_1\n",
      "  mpmath-1.3.0-py38haa95532_0\n",
      "  networkx-3.1-py38haa95532_0\n",
      "  openjpeg-2.4.0-h4fc8c34_0\n",
      "  pillow-10.3.0-py38h2bbff1b_0\n",
      "  pysocks-1.7.1-py38haa95532_0\n",
      "  pytorch-2.3.0-py3.8_cpu_0\n",
      "  pytorch-mutex-1.0-cpu\n",
      "  pyyaml-6.0.1-py38h2bbff1b_0\n",
      "  requests-2.32.2-py38haa95532_0\n",
      "  sympy-1.12-py38haa95532_0\n",
      "  torchaudio-2.3.0-py38_cpu\n",
      "  torchvision-0.18.0-py38_cpu\n",
      "  urllib3-2.2.1-py38haa95532_0\n",
      "  win_inet_pton-1.1.0-py38haa95532_0\n",
      "  yaml-0.2.5-he774522_0\n",
      "\n",
      "\n",
      "Preparing transaction: ...working... done\n",
      "Verifying transaction: ...working... done\n",
      "Executing transaction: ...working... done\n",
      "\n",
      "Note: you may need to restart the kernel to use updated packages.\n"
     ]
    }
   ],
   "source": [
    "conda remove pytorch torchvision torchaudio cudatoolkit\n"
   ]
  },
  {
   "cell_type": "code",
   "execution_count": 2,
   "id": "2b2ed3ef",
   "metadata": {},
   "outputs": [
    {
     "ename": "OSError",
     "evalue": "[WinError 127] The specified procedure could not be found. Error loading \"c:\\Users\\ebjor\\anaconda\\envs\\ddm2\\lib\\site-packages\\torch\\lib\\caffe2_detectron_ops.dll\" or one of its dependencies.",
     "output_type": "error",
     "traceback": [
      "\u001b[1;31m---------------------------------------------------------------------------\u001b[0m",
      "\u001b[1;31mOSError\u001b[0m                                   Traceback (most recent call last)",
      "Cell \u001b[1;32mIn[2], line 1\u001b[0m\n\u001b[1;32m----> 1\u001b[0m \u001b[38;5;28;01mimport\u001b[39;00m \u001b[38;5;21;01mtorch\u001b[39;00m\n\u001b[0;32m      3\u001b[0m \u001b[38;5;28mprint\u001b[39m(\u001b[38;5;124m\"\u001b[39m\u001b[38;5;124mCUDA available:\u001b[39m\u001b[38;5;124m\"\u001b[39m, torch\u001b[38;5;241m.\u001b[39mcuda\u001b[38;5;241m.\u001b[39mis_available())\n\u001b[0;32m      4\u001b[0m \u001b[38;5;28mprint\u001b[39m(\u001b[38;5;124m\"\u001b[39m\u001b[38;5;124mCurrent device:\u001b[39m\u001b[38;5;124m\"\u001b[39m, torch\u001b[38;5;241m.\u001b[39mcuda\u001b[38;5;241m.\u001b[39mcurrent_device())\n",
      "File \u001b[1;32mc:\\Users\\ebjor\\anaconda\\envs\\ddm2\\lib\\site-packages\\torch\\__init__.py:130\u001b[0m\n\u001b[0;32m    128\u001b[0m     err \u001b[38;5;241m=\u001b[39m ctypes\u001b[38;5;241m.\u001b[39mWinError(last_error)\n\u001b[0;32m    129\u001b[0m     err\u001b[38;5;241m.\u001b[39mstrerror \u001b[38;5;241m+\u001b[39m\u001b[38;5;241m=\u001b[39m \u001b[38;5;124mf\u001b[39m\u001b[38;5;124m'\u001b[39m\u001b[38;5;124m Error loading \u001b[39m\u001b[38;5;124m\"\u001b[39m\u001b[38;5;132;01m{\u001b[39;00mdll\u001b[38;5;132;01m}\u001b[39;00m\u001b[38;5;124m\"\u001b[39m\u001b[38;5;124m or one of its dependencies.\u001b[39m\u001b[38;5;124m'\u001b[39m\n\u001b[1;32m--> 130\u001b[0m     \u001b[38;5;28;01mraise\u001b[39;00m err\n\u001b[0;32m    131\u001b[0m \u001b[38;5;28;01melif\u001b[39;00m res \u001b[38;5;129;01mis\u001b[39;00m \u001b[38;5;129;01mnot\u001b[39;00m \u001b[38;5;28;01mNone\u001b[39;00m:\n\u001b[0;32m    132\u001b[0m     is_loaded \u001b[38;5;241m=\u001b[39m \u001b[38;5;28;01mTrue\u001b[39;00m\n",
      "\u001b[1;31mOSError\u001b[0m: [WinError 127] The specified procedure could not be found. Error loading \"c:\\Users\\ebjor\\anaconda\\envs\\ddm2\\lib\\site-packages\\torch\\lib\\caffe2_detectron_ops.dll\" or one of its dependencies."
     ]
    },
    {
     "ename": "",
     "evalue": "",
     "output_type": "error",
     "traceback": [
      "\u001b[1;31mThe Kernel crashed while executing code in the current cell or a previous cell. \n",
      "\u001b[1;31mPlease review the code in the cell(s) to identify a possible cause of the failure. \n",
      "\u001b[1;31mClick <a href='https://aka.ms/vscodeJupyterKernelCrash'>here</a> for more info. \n",
      "\u001b[1;31mView Jupyter <a href='command:jupyter.viewOutput'>log</a> for further details."
     ]
    }
   ],
   "source": [
    "import torch\n",
    "\n",
    "print(\"CUDA available:\", torch.cuda.is_available())\n",
    "print(\"Current device:\", torch.cuda.current_device())\n",
    "print(\"Device name:\", torch.cuda.get_device_name(0))\n"
   ]
  },
  {
   "cell_type": "code",
   "execution_count": 26,
   "id": "6a96a7d9",
   "metadata": {},
   "outputs": [
    {
     "name": "stdout",
     "output_type": "stream",
     "text": [
      "1.8.0+cpu None\n",
      "export CUDA_VISIBLE_DEVICES=0\n"
     ]
    },
    {
     "name": "stderr",
     "output_type": "stream",
     "text": [
      "24-06-01 23:44:35.473 - INFO: [Phase 1] Training noise model!\n",
      "Traceback (most recent call last):\n",
      "  File \"train_noise_model.py\", line 42, in <module>\n",
      "    train_set = Data.create_dataset(dataset_opt, phase)\n",
      "  File \"c:\\Users\\ebjor\\DDM2\\data\\__init__.py\", line 28, in create_dataset\n",
      "    from data.mri_dataset import MRIDataset\n",
      "  File \"c:\\Users\\ebjor\\DDM2\\data\\mri_dataset.py\", line 1, in <module>\n",
      "    from curses import raw\n",
      "  File \"c:\\Users\\ebjor\\anaconda\\envs\\ddm2\\lib\\curses\\__init__.py\", line 13, in <module>\n",
      "    from _curses import *\n",
      "ModuleNotFoundError: No module named '_curses'\n"
     ]
    }
   ],
   "source": [
    "!python train_noise_model.py -p train -c config/hardi_150.json\n"
   ]
  },
  {
   "cell_type": "code",
   "execution_count": 7,
   "id": "f95258fc",
   "metadata": {},
   "outputs": [
    {
     "name": "stdout",
     "output_type": "stream",
     "text": [
      "Channels:\n",
      " - defaults\n",
      " - conda-forge\n",
      " - pytorch\n",
      "Platform: win-64\n",
      "Collecting package metadata (repodata.json): ...working... done\n",
      "Solving environment: ...working... done\n",
      "\n",
      "## Package Plan ##\n",
      "\n",
      "  environment location: C:\\Users\\ebjor\\anaconda\\envs\\ddm2\n",
      "\n",
      "  removed specs:\n",
      "    - cudatoolkit\n",
      "    - pytorch\n",
      "    - torchaudio\n",
      "    - torchvision\n",
      "\n",
      "\n",
      "The following packages will be REMOVED:\n",
      "\n",
      "  brotli-python-1.0.9-py38hd77b12b_8\n",
      "  charset-normalizer-2.0.4-pyhd3eb1b0_0\n",
      "  cudatoolkit-10.2.89-h74a9793_1\n",
      "  filelock-3.13.1-py38haa95532_0\n",
      "  gmpy2-2.1.2-py38h7f96b67_0\n",
      "  idna-3.7-py38haa95532_0\n",
      "  jinja2-3.1.4-py38haa95532_0\n",
      "  libjpeg-turbo-2.0.0-h196d8e1_0\n",
      "  markupsafe-2.1.3-py38h2bbff1b_0\n",
      "  mpc-1.1.0-h7edee0f_1\n",
      "  mpfr-4.0.2-h62dcd97_1\n",
      "  mpir-3.0.0-hec2e145_1\n",
      "  mpmath-1.3.0-py38haa95532_0\n",
      "  networkx-3.1-py38haa95532_0\n",
      "  openjpeg-2.4.0-h4fc8c34_0\n",
      "  pillow-10.3.0-py38h2bbff1b_0\n",
      "  pysocks-1.7.1-py38haa95532_0\n",
      "  pytorch-2.3.0-py3.8_cpu_0\n",
      "  pytorch-mutex-1.0-cpu\n",
      "  pyyaml-6.0.1-py38h2bbff1b_0\n",
      "  requests-2.32.2-py38haa95532_0\n",
      "  sympy-1.12-py38haa95532_0\n",
      "  torchaudio-2.3.0-py38_cpu\n",
      "  torchvision-0.18.0-py38_cpu\n",
      "  urllib3-2.2.1-py38haa95532_0\n",
      "  win_inet_pton-1.1.0-py38haa95532_0\n",
      "  yaml-0.2.5-he774522_0\n",
      "\n",
      "\n",
      "Preparing transaction: ...working... done\n",
      "Verifying transaction: ...working... done\n",
      "Executing transaction: ...working... done\n"
     ]
    }
   ],
   "source": [
    "!conda remove pytorch torchvision torchaudio cudatoolkit -y\n"
   ]
  },
  {
   "cell_type": "code",
   "execution_count": 8,
   "id": "3700ffe1",
   "metadata": {},
   "outputs": [],
   "source": [
    "!conda clean --all\n"
   ]
  },
  {
   "cell_type": "code",
   "execution_count": null,
   "id": "9635e479",
   "metadata": {},
   "outputs": [],
   "source": [
    "!conda install pytorch torchvision torchaudio cudatoolkit=10.2 -c pytorch -y\n"
   ]
  },
  {
   "cell_type": "code",
   "execution_count": null,
   "id": "2623546b",
   "metadata": {},
   "outputs": [],
   "source": []
  }
 ],
 "metadata": {
  "kernelspec": {
   "display_name": "ddm2",
   "language": "python",
   "name": "python3"
  },
  "language_info": {
   "codemirror_mode": {
    "name": "ipython",
    "version": 3
   },
   "file_extension": ".py",
   "mimetype": "text/x-python",
   "name": "python",
   "nbconvert_exporter": "python",
   "pygments_lexer": "ipython3",
   "version": "3.8.12"
  }
 },
 "nbformat": 4,
 "nbformat_minor": 5
}
